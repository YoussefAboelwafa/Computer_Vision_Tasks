{
 "cells": [
  {
   "cell_type": "code",
   "execution_count": 2,
   "metadata": {
    "executionInfo": {
     "elapsed": 53,
     "status": "ok",
     "timestamp": 1745924492328,
     "user": {
      "displayName": "Ahmed Samir",
      "userId": "05413790663075358735"
     },
     "user_tz": -180
    },
    "id": "TgFmuQ6kMg9m"
   },
   "outputs": [],
   "source": [
    "import cv2\n",
    "import numpy as np\n",
    "import matplotlib.pyplot as plt"
   ]
  },
  {
   "cell_type": "code",
   "execution_count": null,
   "metadata": {
    "executionInfo": {
     "elapsed": 44,
     "status": "ok",
     "timestamp": 1745924597749,
     "user": {
      "displayName": "Ahmed Samir",
      "userId": "05413790663075358735"
     },
     "user_tz": -180
    },
    "id": "3egRkcizNTkX"
   },
   "outputs": [],
   "source": [
    "image_paths = [\n",
    "    ('img/l1.png', 'img/r1.png'),\n",
    "    ('img/l2.png', 'img/r2.png'),\n",
    "    ('img/l3.png', 'img/r3.png'),\n",
    "]"
   ]
  },
  {
   "cell_type": "code",
   "execution_count": null,
   "metadata": {
    "executionInfo": {
     "elapsed": 2,
     "status": "ok",
     "timestamp": 1745924599970,
     "user": {
      "displayName": "Ahmed Samir",
      "userId": "05413790663075358735"
     },
     "user_tz": -180
    },
    "id": "jRTNy9h7MiP0"
   },
   "outputs": [],
   "source": [
    "WINDOW_SIZES = [1, 5, 9]\n",
    "DISPARITY_RANGE = 64"
   ]
  },
  {
   "cell_type": "code",
   "execution_count": 5,
   "metadata": {
    "executionInfo": {
     "elapsed": 90,
     "status": "ok",
     "timestamp": 1745924600800,
     "user": {
      "displayName": "Ahmed Samir",
      "userId": "05413790663075358735"
     },
     "user_tz": -180
    },
    "id": "kyIJkg4_MkLs"
   },
   "outputs": [],
   "source": [
    "def load_images(left_img_path, right_img_path):\n",
    "    left = cv2.imread(left_img_path, cv2.IMREAD_GRAYSCALE)\n",
    "    right = cv2.imread(right_img_path, cv2.IMREAD_GRAYSCALE)\n",
    "    return left, right"
   ]
  },
  {
   "cell_type": "code",
   "execution_count": null,
   "metadata": {
    "executionInfo": {
     "elapsed": 8,
     "status": "ok",
     "timestamp": 1745924606998,
     "user": {
      "displayName": "Ahmed Samir",
      "userId": "05413790663075358735"
     },
     "user_tz": -180
    },
    "id": "o3JkUOnMMZJk"
   },
   "outputs": [],
   "source": [
    "def compute_sad_ssd(left, right, window_size, method='SAD'):\n",
    "    h, w = left.shape\n",
    "    disparity_map = np.zeros((h, w), dtype=np.uint8)\n",
    "    half_w = window_size // 2\n",
    "    for y in range(half_w, h - half_w):\n",
    "        for x in range(half_w, w - half_w):\n",
    "            min_cost = float('inf')\n",
    "            best_disparity = 0\n",
    "            for d in range(DISPARITY_RANGE):\n",
    "                if x - d - half_w < 0:\n",
    "                    continue\n",
    "                left_patch = left[y - half_w:y + half_w + 1, x - half_w:x + half_w + 1]\n",
    "                right_patch = right[y - half_w:y + half_w + 1, x - d - half_w:x - d + half_w + 1]\n",
    "                if method == 'SAD':\n",
    "                    cost = np.sum(np.abs(left_patch - right_patch))\n",
    "                elif method == 'SSD':\n",
    "                    cost = np.sum((left_patch - right_patch) ** 2)\n",
    "                if cost < min_cost:\n",
    "                    min_cost = cost\n",
    "                    best_disparity = d\n",
    "            disparity_map[y, x] = best_disparity * (255 // DISPARITY_RANGE)\n",
    "    return disparity_map"
   ]
  },
  {
   "cell_type": "code",
   "execution_count": null,
   "metadata": {
    "colab": {
     "base_uri": "https://localhost:8080/",
     "height": 646
    },
    "executionInfo": {
     "elapsed": 323661,
     "status": "ok",
     "timestamp": 1745925453501,
     "user": {
      "displayName": "Ahmed Samir",
      "userId": "05413790663075358735"
     },
     "user_tz": -180
    },
    "id": "zxxL1tgtNAMc",
    "outputId": "deea60a2-2464-4f4d-8cea-7e45e6d6a7ae"
   },
   "outputs": [],
   "source": [
    "img_id = 0\n",
    "def main():\n",
    "    left, right = load_images(image_paths[img_id][0],image_paths[img_id][1])\n",
    "    for w in WINDOW_SIZES:\n",
    "        print(f'Computing disparity map for window size {w}...')\n",
    "        print('SAD method...')\n",
    "        sad_map = compute_sad_ssd(left, right, w, method='SAD')\n",
    "        print('SSD method...')\n",
    "        ssd_map = compute_sad_ssd(left, right, w, method='SSD')\n",
    "        cv2.imwrite(f'disparity/disparity_imag_{img_id}_sad_w{w}.png', sad_map)\n",
    "        cv2.imwrite(f'disparity/disparity_imag_{img_id}_ssd_w{w}.png', ssd_map)\n",
    "\n",
    "if __name__ == '__main__':\n",
    "    main()"
   ]
  }
 ],
 "metadata": {
  "colab": {
   "authorship_tag": "ABX9TyNojGIIGNBp0HYxi445IfUO",
   "provenance": []
  },
  "kernelspec": {
   "display_name": "Python 3",
   "name": "python3"
  },
  "language_info": {
   "name": "python"
  }
 },
 "nbformat": 4,
 "nbformat_minor": 0
}

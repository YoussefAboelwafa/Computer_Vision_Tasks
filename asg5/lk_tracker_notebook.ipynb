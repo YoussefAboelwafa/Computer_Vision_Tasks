{
  "cells": [
    {
      "cell_type": "markdown",
      "metadata": {},
      "source": [
        "# Lucas-Kanade Object Tracker\n",
        "\n",
        "This notebook implements a Lucas-Kanade tracker for object tracking in video sequences. The tracker uses affine transformation parameters to track objects across frames.\n",
        "\n",
        "## Table of Contents\n",
        "1. [Import Libraries](#imports)\n",
        "2. [Lucas-Kanade Tracker Class](#tracker-class)\n",
        "3. [Utility Functions](#utility-functions)\n",
        "4. [Main Tracking Function](#main-tracking)\n",
        "5. [Video Processing Functions](#video-processing)\n",
        "6. [Run Tracking](#run-tracking)"
      ]
    },
    {
      "cell_type": "markdown",
      "metadata": {},
      "source": [
        "## 1. Import Libraries {#imports}\n",
        "\n",
        "Import all necessary libraries for computer vision, numerical computation, and visualization."
      ]
    },
    {
      "cell_type": "code",
      "execution_count": 1,
      "metadata": {},
      "outputs": [],
      "source": [
        "import numpy as np\n",
        "import cv2\n",
        "from scipy import ndimage\n",
        "import matplotlib.pyplot as plt\n",
        "from matplotlib.patches import Rectangle\n",
        "import matplotlib.patches as patches\n",
        "from IPython.display import clear_output\n",
        "import time"
      ]
    },
    {
      "cell_type": "markdown",
      "metadata": {},
      "source": [
        "## 2. Lucas-Kanade Tracker Class {#tracker-class}\n",
        "\n",
        "The main tracker class that implements the Lucas-Kanade algorithm with affine transformation."
      ]
    },
    {
      "cell_type": "code",
      "execution_count": 2,
      "metadata": {},
      "outputs": [],
      "source": [
        "class LucasKanadeTracker:\n",
        "    def __init__(self, sobel_kernel_size=5, threshold=0.001, max_iterations=200):\n",
        "        \"\"\"\n",
        "        Initialize Lucas-Kanade tracker\n",
        "\n",
        "        Args:\n",
        "            sobel_kernel_size: Size of Sobel kernel for gradient computation\n",
        "            threshold: Convergence threshold for parameter updates\n",
        "            max_iterations: Maximum number of iterations per frame\n",
        "        \"\"\"\n",
        "        self.threshold = threshold\n",
        "        self.max_iterations = max_iterations\n",
        "        self.sobel_kernel_size = sobel_kernel_size"
      ]
    },
    {
      "cell_type": "markdown",
      "metadata": {},
      "source": [
        "### Gradient Computation\n",
        "\n",
        "Compute image gradients using Sobel operators for the Lucas-Kanade algorithm."
      ]
    },
    {
      "cell_type": "code",
      "execution_count": 3,
      "metadata": {},
      "outputs": [],
      "source": [
        "def compute_gradients(self, image):\n",
        "    \"\"\"\n",
        "    Compute image gradients using Sobel operators\n",
        "\n",
        "    Args:\n",
        "        image: Input grayscale image\n",
        "\n",
        "    Returns:\n",
        "        gx, gy: Horizontal and vertical gradients\n",
        "    \"\"\"\n",
        "    gx = cv2.Sobel(image.astype(np.float32), cv2.CV_64F, 1, 0, ksize=self.sobel_kernel_size)\n",
        "    gy = cv2.Sobel(image.astype(np.float32), cv2.CV_64F, 0, 1, ksize=self.sobel_kernel_size)\n",
        "\n",
        "    return gx, gy\n",
        "\n",
        "# Add method to the class\n",
        "LucasKanadeTracker.compute_gradients = compute_gradients"
      ]
    },
    {
      "cell_type": "markdown",
      "metadata": {},
      "source": [
        "### Affine Transformation\n",
        "\n",
        "Create affine transformation matrix from 6 parameters."
      ]
    },
    {
      "cell_type": "code",
      "execution_count": 4,
      "metadata": {},
      "outputs": [],
      "source": [
        "def affine_warp_matrix(self, p):\n",
        "    \"\"\"\n",
        "    Create affine transformation matrix from parameters\n",
        "\n",
        "    Args:\n",
        "        p: 6-parameter vector [p1, p2, p3, p4, p5, p6]\n",
        "\n",
        "    Returns:\n",
        "        3x3 affine transformation matrix\n",
        "    \"\"\"\n",
        "    return np.array([\n",
        "        [1 + p[0], p[2], p[4]],\n",
        "        [p[1], 1 + p[3], p[5]],\n",
        "    ])\n",
        "\n",
        "# Add method to the class\n",
        "LucasKanadeTracker.affine_warp_matrix = affine_warp_matrix"
      ]
    },
    {
      "cell_type": "markdown",
      "metadata": {},
      "source": [
        "### Rectangle Update and Image Cropping\n",
        "\n",
        "Update bounding box coordinates and crop images based on transformation."
      ]
    },
    {
      "cell_type": "code",
      "execution_count": 5,
      "metadata": {},
      "outputs": [],
      "source": [
        "def get_updated_rectangle(self, transformation_matrix, input_rectangle, image_width, image_height, image):\n",
        "    # Top-left corner in homogeneous coordinates\n",
        "    top_left_homogeneous = np.array([[input_rectangle[0]], [input_rectangle[1]], [1]])\n",
        "\n",
        "    # Transform top-left corner\n",
        "    updated_top_left_homogeneous = transformation_matrix @ top_left_homogeneous\n",
        "\n",
        "    # Extract coordinates ensuring they stay within image boundaries\n",
        "    updated_top_left_x = max(0, updated_top_left_homogeneous[0, 0])\n",
        "    updated_top_left_y = max(0, updated_top_left_homogeneous[1, 0])\n",
        "\n",
        "    # Calculate bottom-right coordinates within image boundaries\n",
        "    updated_bottom_right_x = min(image.shape[1], updated_top_left_x + image_width)\n",
        "    updated_bottom_right_y = min(image.shape[0], updated_top_left_y + image_height)\n",
        "    \n",
        "    updated_rectangle = [\n",
        "        int(updated_top_left_x),\n",
        "        int(updated_top_left_y),\n",
        "        int(updated_bottom_right_x),\n",
        "        int(updated_bottom_right_y)\n",
        "    ]\n",
        "\n",
        "    return updated_rectangle\n",
        "\n",
        "def crop_image(self, image, rectangle):\n",
        "    \"\"\"\n",
        "    Crop image to specified rectangle\n",
        "\n",
        "    Args:\n",
        "        image: Input image\n",
        "        rectangle: Bounding box [x, y, w, h]\n",
        "\n",
        "    Returns:\n",
        "        Cropped image\n",
        "    \"\"\"\n",
        "    return image[rectangle[1]:rectangle[3], rectangle[0]:rectangle[2]]\n",
        "\n",
        "# def update_rect(self, W, bbox):\n",
        "#     x, y, w, h = bbox\n",
        "#     top = np.array([x, y, 1.]).reshape(3,1)\n",
        "#     new = (W @ top).ravel()\n",
        "#     return [int(new[0]), int(new[1]), w, h]\n",
        "# Add methods to the class\n",
        "LucasKanadeTracker.get_updated_rectangle = get_updated_rectangle\n",
        "LucasKanadeTracker.crop_image = crop_image\n",
        "# LucasKanadeTracker.update_rect = update_rect\n"
      ]
    },
    {
      "cell_type": "markdown",
      "metadata": {},
      "source": [
        "### Steepest Descent Computation\n",
        "\n",
        "Compute steepest descent images for the Lucas-Kanade optimization."
      ]
    },
    {
      "cell_type": "code",
      "execution_count": 6,
      "metadata": {},
      "outputs": [],
      "source": [
        "def compute_steepest_descent_warped(self, gx, gy, rect):\n",
        "    # rows/cols inside ROI\n",
        "    gradient_descent_vectors = []\n",
        "\n",
        "    for row in range(rect[1], rect[3]):\n",
        "        for col in range(rect[0], rect[2]):\n",
        "            gradient_vector = np.array([gx[row][col], gy[row][col]])\n",
        "            jacobian_matrix = np.array([[col, 0, row, 0, 1, 0], [0, col, 0, row, 0, 1]])\n",
        "            gradient_descent_matrix = np.matmul(gradient_vector, jacobian_matrix)\n",
        "            gradient_descent_vectors.append(gradient_descent_matrix)\n",
        "\n",
        "    return gradient_descent_vectors\n",
        "\n",
        "# Add method to the class\n",
        "LucasKanadeTracker.compute_steepest_descent_warped = compute_steepest_descent_warped"
      ]
    },
    {
      "cell_type": "markdown",
      "metadata": {},
      "source": [
        "### Main Tracking Algorithm\n",
        "\n",
        "The core Lucas-Kanade tracking function that processes each frame."
      ]
    },
    {
      "cell_type": "code",
      "execution_count": 7,
      "metadata": {},
      "outputs": [],
      "source": [
        "def track_frame(self, template, current_frame, bbox, p_init=None,img_h = 50, img_w = 110):\n",
        "    \"\"\"\n",
        "    Track object in current frame using Lucas-Kanade\n",
        "\n",
        "    Args:\n",
        "        template: Template image patch\n",
        "        current_frame: Current frame\n",
        "        bbox: Current bounding box estimate\n",
        "        p_init: Initial parameter estimate\n",
        "\n",
        "    Returns:\n",
        "        Updated parameters and bounding box\n",
        "    \"\"\"\n",
        "    if p_init is None:\n",
        "            p = np.zeros(6)\n",
        "    else:\n",
        "        p = p_init.copy()\n",
        "\n",
        "    \n",
        "    \n",
        "    gx, gy = self.compute_gradients(current_frame)\n",
        "    W = self.affine_warp_matrix(p)\n",
        "    \n",
        "    for iteration in range(self.max_iterations):\n",
        "        W = self.affine_warp_matrix(p)\n",
        "        updated_rectangle = self.get_updated_rectangle(W, bbox, img_w, img_h, current_frame)\n",
        "        warpedImage = cv2.warpAffine(current_frame, W, dsize=(current_frame.shape[1], current_frame.shape[0]))\n",
        "        currentFrame = self.crop_image(warpedImage, updated_rectangle)\n",
        "        currentFrameHeight, currentFrameWeight = currentFrame.shape\n",
        "        tempRect = np.array([0, 0, currentFrameWeight, currentFrameHeight])\n",
        "\n",
        "        # Calculate error between template and current frame\n",
        "        error = self.crop_image(template, tempRect).astype(int) - currentFrame.astype(int)\n",
        "\n",
        "        # Compute steepest descent images using warped coordinates\n",
        "        sd_images = self.compute_steepest_descent_warped(gx, gy, updated_rectangle)\n",
        "        sd_images = np.array(sd_images)\n",
        "\n",
        "        # Calculate Hessian matrix\n",
        "        Hessian = np.matmul(np.transpose(np.array(sd_images)), np.array(sd_images))\n",
        "        Hessian_inv = np.linalg.pinv(Hessian)\n",
        "\n",
        "        # Calculate parameter update\n",
        "        dP = np.matmul(np.matmul(Hessian_inv, np.transpose(np.array(sd_images))), error.reshape(((error.shape[0] * error.shape[1]), 1)))\n",
        "        p += dP.reshape((-1))\n",
        "        norm = np.linalg.norm(dP)\n",
        "\n",
        "        # Check convergence\n",
        "        if norm <= self.threshold:\n",
        "            break\n",
        "            \n",
        "    bbox = self.get_updated_rectangle(W, bbox, img_w, img_h, current_frame)\n",
        "    return p, bbox\n",
        "\n",
        "# Add method to the class\n",
        "LucasKanadeTracker.track_frame = track_frame"
      ]
    },
    {
      "cell_type": "markdown",
      "metadata": {},
      "source": [
        "## 3. Utility Functions\n",
        "\n",
        "Helper functions for bounding box selection and video loading."
      ]
    },
    {
      "cell_type": "markdown",
      "metadata": {},
      "source": [
        "### Interactive Bounding Box Selection\n",
        "\n",
        "Function to interactively select the object to track in the first frame."
      ]
    },
    {
      "cell_type": "code",
      "execution_count": 8,
      "metadata": {},
      "outputs": [],
      "source": [
        "def select_bounding_box(frame):\n",
        "    \"\"\"\n",
        "    Interactive bounding box selection\n",
        "\n",
        "    Args:\n",
        "        frame: First frame of video\n",
        "\n",
        "    Returns:\n",
        "        Selected bounding box [x, y, w, h]\n",
        "    \"\"\"\n",
        "    print(\"Click and drag to select the object to track. Close the window when done.\")\n",
        "\n",
        "    drawing = False\n",
        "    bbox = [0, 0, 0, 0]\n",
        "\n",
        "    def mouse_callback(event, x, y, flags, param):\n",
        "        nonlocal drawing, bbox\n",
        "\n",
        "        if event == cv2.EVENT_LBUTTONDOWN:\n",
        "            drawing = True\n",
        "            bbox[0], bbox[1] = x, y\n",
        "\n",
        "        elif event == cv2.EVENT_MOUSEMOVE:\n",
        "            if drawing:\n",
        "                bbox[2] = x - bbox[0]\n",
        "                bbox[3] = y - bbox[1]\n",
        "\n",
        "        elif event == cv2.EVENT_LBUTTONUP:\n",
        "            drawing = False\n",
        "            bbox[2] = x - bbox[0]\n",
        "            bbox[3] = y - bbox[1]\n",
        "\n",
        "    cv2.namedWindow('Select Object', cv2.WINDOW_AUTOSIZE)\n",
        "    cv2.setMouseCallback('Select Object', mouse_callback)\n",
        "\n",
        "    while True:\n",
        "        img_copy = frame.copy()\n",
        "        if bbox[2] > 0 and bbox[3] > 0:\n",
        "            cv2.rectangle(img_copy, (bbox[0], bbox[1]), \n",
        "                         (bbox[0] + bbox[2], bbox[1] + bbox[3]), (0, 255, 0), 2)\n",
        "\n",
        "        cv2.imshow('Select Object', img_copy)\n",
        "\n",
        "        key = cv2.waitKey(1) & 0xFF\n",
        "        if key == ord('q') or cv2.getWindowProperty('Select Object', cv2.WND_PROP_VISIBLE) < 1:\n",
        "            break\n",
        "\n",
        "    cv2.destroyAllWindows()\n",
        "\n",
        "    # Ensure positive width and height\n",
        "    if bbox[2] < 0:\n",
        "        bbox[0] += bbox[2]\n",
        "        bbox[2] = -bbox[2]\n",
        "    if bbox[3] < 0:\n",
        "        bbox[1] += bbox[3]\n",
        "        bbox[3] = -bbox[3]\n",
        "\n",
        "    return bbox"
      ]
    },
    {
      "cell_type": "markdown",
      "metadata": {},
      "source": [
        "### Video Loading Function\n",
        "\n",
        "Load video data from numpy array files."
      ]
    },
    {
      "cell_type": "code",
      "execution_count": 9,
      "metadata": {},
      "outputs": [],
      "source": [
        "def load_video_from_npy(filename):\n",
        "    \"\"\"\n",
        "    Load video from numpy array file\n",
        "\n",
        "    Args:\n",
        "        filename: Path to .npy file\n",
        "\n",
        "    Returns:\n",
        "        Video frames as numpy array\n",
        "    \"\"\"\n",
        "    video = np.load(filename)\n",
        "    return video"
      ]
    },
    {
      "cell_type": "markdown",
      "metadata": {},
      "source": [
        "## 4. Main Tracking Function {#main-tracking}\n",
        "\n",
        "The main function that coordinates the entire tracking process."
      ]
    },
    {
      "cell_type": "code",
      "execution_count": 10,
      "metadata": {},
      "outputs": [],
      "source": [
        "def track_object_in_video(video_path, output_path=None):\n",
        "    \"\"\"\n",
        "    Main tracking function\n",
        "\n",
        "    Args:\n",
        "        video_path: Path to input video (.npy file)\n",
        "        output_path: Path to save output video (optional)\n",
        "\n",
        "    Returns:\n",
        "        List of bounding boxes for each frame\n",
        "    \"\"\"\n",
        "    print(f\"Loading video from {video_path}...\")\n",
        "    frames = load_video_from_npy(video_path)\n",
        "\n",
        "    if len(frames.shape) == 4:  # Color video\n",
        "        gray_frames = np.array([cv2.cvtColor(frame, cv2.COLOR_RGB2GRAY) for frame in frames])\n",
        "    else:  # Already grayscale\n",
        "        gray_frames = frames\n",
        "\n",
        "    print(f\"Video loaded: {frames.shape[2]} frames, {frames.shape[0]}x{frames.shape[1]}\")\n",
        "\n",
        "    gray_frames = gray_frames.transpose(2, 0, 1)\n",
        "    \n",
        "    first_frame = frames[0] if len(frames.shape) == 4 else cv2.cvtColor(gray_frames[0], cv2.COLOR_GRAY2RGB)\n",
        "    bbox = select_bounding_box(first_frame)\n",
        "\n",
        "    print(f\"Selected bounding box: {bbox}\")\n",
        "\n",
        "    tracker = LucasKanadeTracker()\n",
        "\n",
        "    x, y, w, h = bbox\n",
        "    template = gray_frames[0][y:y+h, x:x+w].astype(np.float32)\n",
        "\n",
        "    bboxes = [bbox]\n",
        "    current_bbox = bbox.copy()\n",
        "    p = np.zeros(6)  # Initial affine parameters\n",
        "\n",
        "    print(\"Tracking object through video...\")\n",
        "\n",
        "    for i in range(1, len(gray_frames)):\n",
        "        if i % 10 == 0:\n",
        "            print(f\"Processing frame {i}/{len(gray_frames)}\")\n",
        "\n",
        "        current_frame = gray_frames[i].astype(np.float32)\n",
        "        p, current_bbox = tracker.track_frame(template, current_frame, current_bbox, p,x,y)\n",
        "\n",
        "        bboxes.append(current_bbox)\n",
        "        p = np.zeros(6)\n",
        "\n",
        "    if output_path:\n",
        "        frames = frames.transpose(2, 0, 1)\n",
        "        save_tracking_video(frames, bboxes, output_path)\n",
        "\n",
        "    return bboxes"
      ]
    },
    {
      "cell_type": "markdown",
      "metadata": {},
      "source": [
        "## 5. Video Processing Functions {#video-processing}\n",
        "\n",
        "Functions for saving tracking results as video files."
      ]
    },
    {
      "cell_type": "code",
      "execution_count": 11,
      "metadata": {},
      "outputs": [],
      "source": [
        "def save_tracking_video(frames, bboxes, output_path, fps=10):\n",
        "    \"\"\"\n",
        "    Save tracking results as video file\n",
        "\n",
        "    Args:\n",
        "        frames: Original video frames\n",
        "        bboxes: List of bounding boxes for each frame\n",
        "        output_path: Output video file path\n",
        "        fps: Frames per second\n",
        "    \"\"\"\n",
        "    if len(frames.shape) == 3:  # Grayscale\n",
        "        height, width = frames.shape[1], frames.shape[2]\n",
        "        color_frames = np.stack([frames] * 3, axis=-1)\n",
        "    else:  # Color\n",
        "        height, width = frames.shape[1], frames.shape[2]\n",
        "        color_frames = frames\n",
        "\n",
        "    fourcc = cv2.VideoWriter_fourcc(*'XVID')\n",
        "    out = cv2.VideoWriter(output_path, fourcc, fps, (width, height))\n",
        "\n",
        "    for i, (frame, bbox) in enumerate(zip(color_frames, bboxes)):\n",
        "        frame_copy = frame.copy()\n",
        "        if len(frame_copy.shape) == 2 or frame_copy.shape[2] == 1:\n",
        "            frame_copy = cv2.cvtColor(frame_copy, cv2.COLOR_GRAY2BGR)\n",
        "\n",
        "        x, y, w, h = [int(v) for v in bbox]\n",
        "        cv2.rectangle(frame_copy, (x, y), (w, h), (0, 255, 0), 2)\n",
        "\n",
        "        cv2.putText(frame_copy, f'Frame {i}', (10, 30), \n",
        "                   cv2.FONT_HERSHEY_SIMPLEX, 1, (0, 255, 0), 2)\n",
        "\n",
        "        out.write(frame_copy)\n",
        "\n",
        "    out.release()\n",
        "    print(f\"Tracking video saved to {output_path}\")"
      ]
    },
    {
      "cell_type": "markdown",
      "metadata": {},
      "source": [
        "## 6. Run Tracking\n",
        "\n",
        "Execute the tracking algorithm on your video data."
      ]
    },
    {
      "cell_type": "markdown",
      "metadata": {},
      "source": [
        "### Create Output Directory\n",
        "\n",
        "Make sure the output directory exists for saving results."
      ]
    },
    {
      "cell_type": "code",
      "execution_count": 12,
      "metadata": {},
      "outputs": [
        {
          "name": "stdout",
          "output_type": "stream",
          "text": [
            "Output directory created/confirmed.\n"
          ]
        }
      ],
      "source": [
        "import os\n",
        "\n",
        "# Create output directory if it doesn't exist\n",
        "os.makedirs('output', exist_ok=True)\n",
        "print(\"Output directory created/confirmed.\")"
      ]
    },
    {
      "cell_type": "markdown",
      "metadata": {},
      "source": [
        "### Track Car Video\n",
        "\n",
        "Run the tracker on the car video sequence."
      ]
    },
    {
      "cell_type": "code",
      "execution_count": 14,
      "metadata": {},
      "outputs": [
        {
          "name": "stdout",
          "output_type": "stream",
          "text": [
            "=== Tracking Car ===\n",
            "Loading video from data/car2.npy...\n",
            "Video loaded: 415 frames, 240x320\n",
            "Click and drag to select the object to track. Close the window when done.\n",
            "Selected bounding box: [52, 108, 105, 56]\n",
            "Tracking object through video...\n"
          ]
        },
        {
          "ename": "ValueError",
          "evalue": "operands could not be broadcast together with shapes (52,105) (52,108) ",
          "output_type": "error",
          "traceback": [
            "\u001b[31m---------------------------------------------------------------------------\u001b[39m",
            "\u001b[31mValueError\u001b[39m                                Traceback (most recent call last)",
            "\u001b[36mCell\u001b[39m\u001b[36m \u001b[39m\u001b[32mIn[14]\u001b[39m\u001b[32m, line 2\u001b[39m\n\u001b[32m      1\u001b[39m \u001b[38;5;28mprint\u001b[39m(\u001b[33m\"\u001b[39m\u001b[33m=== Tracking Car ===\u001b[39m\u001b[33m\"\u001b[39m)\n\u001b[32m----> \u001b[39m\u001b[32m2\u001b[39m car_bboxes = \u001b[43mtrack_object_in_video\u001b[49m\u001b[43m(\u001b[49m\u001b[33;43m\"\u001b[39;49m\u001b[33;43mdata/car2.npy\u001b[39;49m\u001b[33;43m\"\u001b[39;49m\u001b[43m,\u001b[49m\u001b[43m \u001b[49m\u001b[33;43m\"\u001b[39;49m\u001b[33;43moutput/car_tracked.mp4\u001b[39;49m\u001b[33;43m\"\u001b[39;49m\u001b[43m)\u001b[49m\n\u001b[32m      3\u001b[39m \u001b[38;5;28mprint\u001b[39m(\u001b[33mf\u001b[39m\u001b[33m\"\u001b[39m\u001b[33mCar tracking completed: \u001b[39m\u001b[38;5;132;01m{\u001b[39;00m\u001b[38;5;28mlen\u001b[39m(car_bboxes)\u001b[38;5;132;01m}\u001b[39;00m\u001b[33m frames\u001b[39m\u001b[33m\"\u001b[39m)\n",
            "\u001b[36mCell\u001b[39m\u001b[36m \u001b[39m\u001b[32mIn[10]\u001b[39m\u001b[32m, line 45\u001b[39m, in \u001b[36mtrack_object_in_video\u001b[39m\u001b[34m(video_path, output_path)\u001b[39m\n\u001b[32m     42\u001b[39m     \u001b[38;5;28mprint\u001b[39m(\u001b[33mf\u001b[39m\u001b[33m\"\u001b[39m\u001b[33mProcessing frame \u001b[39m\u001b[38;5;132;01m{\u001b[39;00mi\u001b[38;5;132;01m}\u001b[39;00m\u001b[33m/\u001b[39m\u001b[38;5;132;01m{\u001b[39;00m\u001b[38;5;28mlen\u001b[39m(gray_frames)\u001b[38;5;132;01m}\u001b[39;00m\u001b[33m\"\u001b[39m)\n\u001b[32m     44\u001b[39m current_frame = gray_frames[i].astype(np.float32)\n\u001b[32m---> \u001b[39m\u001b[32m45\u001b[39m p, current_bbox = \u001b[43mtracker\u001b[49m\u001b[43m.\u001b[49m\u001b[43mtrack_frame\u001b[49m\u001b[43m(\u001b[49m\u001b[43mtemplate\u001b[49m\u001b[43m,\u001b[49m\u001b[43m \u001b[49m\u001b[43mcurrent_frame\u001b[49m\u001b[43m,\u001b[49m\u001b[43m \u001b[49m\u001b[43mcurrent_bbox\u001b[49m\u001b[43m,\u001b[49m\u001b[43m \u001b[49m\u001b[43mp\u001b[49m\u001b[43m,\u001b[49m\u001b[43mx\u001b[49m\u001b[43m,\u001b[49m\u001b[43my\u001b[49m\u001b[43m)\u001b[49m\n\u001b[32m     47\u001b[39m bboxes.append(current_bbox)\n\u001b[32m     48\u001b[39m p = np.zeros(\u001b[32m6\u001b[39m)\n",
            "\u001b[36mCell\u001b[39m\u001b[36m \u001b[39m\u001b[32mIn[7]\u001b[39m\u001b[32m, line 33\u001b[39m, in \u001b[36mtrack_frame\u001b[39m\u001b[34m(self, template, current_frame, bbox, p_init, img_h, img_w)\u001b[39m\n\u001b[32m     30\u001b[39m tempRect = np.array([\u001b[32m0\u001b[39m, \u001b[32m0\u001b[39m, currentFrameWeight, currentFrameHeight])\n\u001b[32m     32\u001b[39m \u001b[38;5;66;03m# Calculate error between template and current frame\u001b[39;00m\n\u001b[32m---> \u001b[39m\u001b[32m33\u001b[39m error = \u001b[38;5;28;43mself\u001b[39;49m\u001b[43m.\u001b[49m\u001b[43mcrop_image\u001b[49m\u001b[43m(\u001b[49m\u001b[43mtemplate\u001b[49m\u001b[43m,\u001b[49m\u001b[43m \u001b[49m\u001b[43mtempRect\u001b[49m\u001b[43m)\u001b[49m\u001b[43m.\u001b[49m\u001b[43mastype\u001b[49m\u001b[43m(\u001b[49m\u001b[38;5;28;43mint\u001b[39;49m\u001b[43m)\u001b[49m\u001b[43m \u001b[49m\u001b[43m-\u001b[49m\u001b[43m \u001b[49m\u001b[43mcurrentFrame\u001b[49m\u001b[43m.\u001b[49m\u001b[43mastype\u001b[49m\u001b[43m(\u001b[49m\u001b[38;5;28;43mint\u001b[39;49m\u001b[43m)\u001b[49m\n\u001b[32m     35\u001b[39m \u001b[38;5;66;03m# Compute steepest descent images using warped coordinates\u001b[39;00m\n\u001b[32m     36\u001b[39m sd_images = \u001b[38;5;28mself\u001b[39m.compute_steepest_descent_warped(gx, gy, updated_rectangle)\n",
            "\u001b[31mValueError\u001b[39m: operands could not be broadcast together with shapes (52,105) (52,108) "
          ]
        }
      ],
      "source": [
        "print(\"=== Tracking Car ===\")\n",
        "car_bboxes = track_object_in_video(\"data/car2.npy\", \"output/car_tracked.mp4\")\n",
        "print(f\"Car tracking completed: {len(car_bboxes)} frames\")"
      ]
    },
    {
      "cell_type": "code",
      "execution_count": 79,
      "metadata": {},
      "outputs": [
        {
          "data": {
            "image/png": "[encoded data removed]",
            "text/plain": [
              "<Figure size 640x480 with 1 Axes>"
            ]
          },
          "metadata": {},
          "output_type": "display_data"
        },
        {
          "name": "stderr",
          "output_type": "stream",
          "text": [
            "100%|██████████| 415/415 [1:51:22<00:00, 16.10s/it]    \n"
          ]
        }
      ],
      "source": [
        "\n",
        "from tqdm import tqdm\n",
        "def process_video(car_video, template, rect_car, output_path):\n",
        "    # Get the height and width of the video frames\n",
        "    h, w = car_video[:, :, 0].shape\n",
        "\n",
        "    # Define the codec and create a video writer object\n",
        "    fourcc = cv2.VideoWriter_fourcc(*'XVID')\n",
        "    out = cv2.VideoWriter(output_path, fourcc, 25.0, (w, h))\n",
        "\n",
        "    # Get the total number of frames in the video\n",
        "    total_frames = car_video.shape[2]\n",
        "    tracker = LucasKanadeTracker()\n",
        "\n",
        "    # Iterate through frames with tqdm for a progress bar\n",
        "    for i in tqdm(range(total_frames)):\n",
        "        # Initialize Lucas-Kanade parameters\n",
        "        p = np.zeros(6)\n",
        "\n",
        "        # Extract current frame\n",
        "        current_frame = car_video[:, :, i].copy()\n",
        "\n",
        "        # Apply Lucas-Kanade method\n",
        "        p, box= tracker.track_frame(template, current_frame, rect_car, p,50,110)\n",
        "        topLeftX, topLeftY, bottomRightX, bottomRightY  = box\n",
        "        # p, topLeftX, topLeftY, bottomRightX, bottomRightY = LucasKanade(\n",
        "        #     current_frame, template, rect_car, p, 0.001, 200, 110, 50\n",
        "        # )\n",
        "\n",
        "        # Update rectangle coordinates\n",
        "        rect_car = [int(topLeftX), int(topLeftY), int(bottomRightX), int(bottomRightY)]\n",
        "\n",
        "        # Draw rectangle on the frame\n",
        "        output_frame = cv2.rectangle(\n",
        "            current_frame,\n",
        "            (int(topLeftX), int(topLeftY)),\n",
        "            (int(bottomRightX), int(bottomRightY)),\n",
        "            (0, 0, 0),  # Rectangle color in BGR format (0, 0, 0 for black)\n",
        "            2,  # Thickness of the rectangle\n",
        "        )\n",
        "\n",
        "        # Convert frame to RGB for video writing\n",
        "        output_frame = cv2.cvtColor(output_frame, cv2.COLOR_GRAY2RGB)\n",
        "\n",
        "        # Write the processed frame to the output video\n",
        "        out.write(output_frame)\n",
        "\n",
        "    # Release the video writer\n",
        "    out.release()\n",
        "\n",
        "\n",
        "car_video = load_video_from_npy(\"data/car2.npy\")\n",
        "\n",
        "rect_car = np.array([50, 110, 160, 160])\n",
        "template = car_video[:,:,0][rect_car[1]:rect_car[3], rect_car[0]:rect_car[2]]\n",
        "plt.imshow(template, cmap='gray')\n",
        "plt.show()\n",
        "process_video(car_video, template, rect_car, \"output/car2.mp4\")"
      ]
    },
    {
      "cell_type": "markdown",
      "metadata": {},
      "source": [
        "### Track Helicopter Video (Optional)\n",
        "\n",
        "Uncomment the following cell to track the helicopter video as well."
      ]
    },
    {
      "cell_type": "code",
      "execution_count": 56,
      "metadata": {},
      "outputs": [],
      "source": [
        "# Uncomment to track helicopter video\n",
        "# print(\"\\n=== Tracking Helicopter ===\")\n",
        "# helicopter_bboxes = track_object_in_video(\"data/helicopter.npy\", \"output/helicopter_tracked.mp4\")\n",
        "# print(f\"Helicopter tracking completed: {len(helicopter_bboxes)} frames\")"
      ]
    },
    {
      "cell_type": "markdown",
      "metadata": {},
      "source": [
        "### Display Results\n",
        "\n",
        "Show some statistics about the tracking results."
      ]
    },
    {
      "cell_type": "code",
      "execution_count": 57,
      "metadata": {},
      "outputs": [
        {
          "name": "stdout",
          "output_type": "stream",
          "text": [
            "\n",
            "=== Tracking Results ===\n",
            "Car tracking: 415 frames processed\n",
            "First bounding box: [51, 106, 106, 56]\n",
            "Last bounding box: [28, 128, 134, 179]\n",
            "\n",
            "Tracking completed successfully!\n"
          ]
        }
      ],
      "source": [
        "# Display tracking statistics\n",
        "print(\"\\n=== Tracking Results ===\")\n",
        "print(f\"Car tracking: {len(car_bboxes)} frames processed\")\n",
        "print(f\"First bounding box: {car_bboxes[0]}\")\n",
        "print(f\"Last bounding box: {car_bboxes[-1]}\")\n",
        "print(\"\\nTracking completed successfully!\")"
      ]
    },
    {
      "cell_type": "markdown",
      "metadata": {},
      "source": [
        "### Visualize Tracking Results (Optional)\n",
        "\n",
        "Plot the trajectory of the tracked object center over time."
      ]
    },
    {
      "cell_type": "code",
      "execution_count": null,
      "metadata": {},
      "outputs": [
        {
          "data": {
            "image/png": "[encoded data removed]",
            "text/plain": [
              "<Figure size 1200x600 with 2 Axes>"
            ]
          },
          "metadata": {},
          "output_type": "display_data"
        }
      ],
      "source": [
        "# Extract center coordinates for visualization\n",
        "centers_x = [bbox[0] + bbox[2]//2 for bbox in car_bboxes]\n",
        "centers_y = [bbox[1] + bbox[3]//2 for bbox in car_bboxes]\n",
        "\n",
        "# Plot trajectory\n",
        "plt.figure(figsize=(12, 6))\n",
        "\n",
        "plt.subplot(1, 2, 1)\n",
        "plt.plot(centers_x, label='X coordinate')\n",
        "plt.plot(centers_y, label='Y coordinate')\n",
        "plt.xlabel('Frame')\n",
        "plt.ylabel('Pixel coordinate')\n",
        "plt.title('Object Center Coordinates Over Time')\n",
        "plt.legend()\n",
        "plt.grid(True)\n",
        "\n",
        "plt.subplot(1, 2, 2)\n",
        "plt.plot(centers_x, centers_y, 'b-', alpha=0.7)\n",
        "plt.plot(centers_x[0], centers_y[0], 'go', markersize=8, label='Start')\n",
        "plt.plot(centers_x[-1], centers_y[-1], 'ro', markersize=8, label='End')\n",
        "plt.xlabel('X coordinate')\n",
        "plt.ylabel('Y coordinate')\n",
        "plt.title('Object Trajectory')\n",
        "plt.legend()\n",
        "plt.grid(True)\n",
        "plt.show()"
      ]
    }
  ],
  "metadata": {
    "kernelspec": {
      "display_name": "Python 3",
      "language": "python",
      "name": "python3"
    },
    "language_info": {
      "codemirror_mode": {
        "name": "ipython",
        "version": 3
      },
      "file_extension": ".py",
      "mimetype": "text/x-python",
      "name": "python",
      "nbconvert_exporter": "python",
      "pygments_lexer": "ipython3",
      "version": "3.13.1"
    }
  },
  "nbformat": 4,
  "nbformat_minor": 2
}
